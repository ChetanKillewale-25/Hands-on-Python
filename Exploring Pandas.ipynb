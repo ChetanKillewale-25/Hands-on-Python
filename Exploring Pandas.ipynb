{
 "cells": [
  {
   "cell_type": "markdown",
   "id": "903ab183",
   "metadata": {},
   "source": [
    "# Exploring Pandas\n"
   ]
  },
  {
   "cell_type": "code",
   "execution_count": 11,
   "id": "cf1de78d",
   "metadata": {},
   "outputs": [
    {
     "name": "stdout",
     "output_type": "stream",
     "text": [
      "Requirement already satisfied: scikit-learn in c:\\users\\asus\\anaconda3\\lib\\site-packages (1.3.0)\n",
      "Collecting scikit-learn\n",
      "  Downloading scikit_learn-1.3.2-cp39-cp39-win_amd64.whl.metadata (11 kB)\n",
      "Requirement already satisfied: numpy<2.0,>=1.17.3 in c:\\users\\asus\\anaconda3\\lib\\site-packages (from scikit-learn) (1.26.2)\n",
      "Requirement already satisfied: scipy>=1.5.0 in c:\\users\\asus\\anaconda3\\lib\\site-packages (from scikit-learn) (1.11.4)\n",
      "Requirement already satisfied: joblib>=1.1.1 in c:\\users\\asus\\anaconda3\\lib\\site-packages (from scikit-learn) (1.2.0)\n",
      "Requirement already satisfied: threadpoolctl>=2.0.0 in c:\\users\\asus\\anaconda3\\lib\\site-packages (from scikit-learn) (2.2.0)\n",
      "Downloading scikit_learn-1.3.2-cp39-cp39-win_amd64.whl (9.3 MB)\n",
      "   ---------------------------------------- 0.0/9.3 MB ? eta -:--:--\n",
      "   ---------------------------------------- 0.0/9.3 MB ? eta -:--:--\n",
      "   ---------------------------------------- 0.0/9.3 MB 435.7 kB/s eta 0:00:22\n",
      "   ---------------------------------------- 0.1/9.3 MB 544.7 kB/s eta 0:00:18\n",
      "    --------------------------------------- 0.1/9.3 MB 944.1 kB/s eta 0:00:10\n",
      "    --------------------------------------- 0.2/9.3 MB 1.1 MB/s eta 0:00:09\n",
      "   - -------------------------------------- 0.3/9.3 MB 1.1 MB/s eta 0:00:09\n",
      "   - -------------------------------------- 0.3/9.3 MB 1.1 MB/s eta 0:00:08\n",
      "   - -------------------------------------- 0.4/9.3 MB 1.2 MB/s eta 0:00:08\n",
      "   -- ------------------------------------- 0.5/9.3 MB 1.3 MB/s eta 0:00:07\n",
      "   -- ------------------------------------- 0.6/9.3 MB 1.4 MB/s eta 0:00:07\n",
      "   -- ------------------------------------- 0.6/9.3 MB 1.4 MB/s eta 0:00:07\n",
      "   --- ------------------------------------ 0.8/9.3 MB 1.5 MB/s eta 0:00:06\n",
      "   --- ------------------------------------ 0.9/9.3 MB 1.5 MB/s eta 0:00:06\n",
      "   ---- ----------------------------------- 1.0/9.3 MB 1.6 MB/s eta 0:00:06\n",
      "   ----- ---------------------------------- 1.2/9.3 MB 1.8 MB/s eta 0:00:05\n",
      "   ----- ---------------------------------- 1.3/9.3 MB 1.8 MB/s eta 0:00:05\n",
      "   ------ --------------------------------- 1.5/9.3 MB 1.9 MB/s eta 0:00:05\n",
      "   ------ --------------------------------- 1.6/9.3 MB 2.0 MB/s eta 0:00:04\n",
      "   ------- -------------------------------- 1.8/9.3 MB 2.1 MB/s eta 0:00:04\n",
      "   -------- ------------------------------- 1.9/9.3 MB 2.2 MB/s eta 0:00:04\n",
      "   --------- ------------------------------ 2.1/9.3 MB 2.3 MB/s eta 0:00:04\n",
      "   --------- ------------------------------ 2.3/9.3 MB 2.3 MB/s eta 0:00:04\n",
      "   ---------- ----------------------------- 2.5/9.3 MB 2.4 MB/s eta 0:00:03\n",
      "   ----------- ---------------------------- 2.7/9.3 MB 2.5 MB/s eta 0:00:03\n",
      "   ------------ --------------------------- 2.9/9.3 MB 2.6 MB/s eta 0:00:03\n",
      "   ------------- -------------------------- 3.1/9.3 MB 2.7 MB/s eta 0:00:03\n",
      "   -------------- ------------------------- 3.4/9.3 MB 2.8 MB/s eta 0:00:03\n",
      "   --------------- ------------------------ 3.6/9.3 MB 2.8 MB/s eta 0:00:03\n",
      "   ---------------- ----------------------- 3.7/9.3 MB 2.8 MB/s eta 0:00:02\n",
      "   ----------------- ---------------------- 4.0/9.3 MB 3.0 MB/s eta 0:00:02\n",
      "   ------------------ --------------------- 4.2/9.3 MB 3.0 MB/s eta 0:00:02\n",
      "   ------------------- -------------------- 4.5/9.3 MB 3.1 MB/s eta 0:00:02\n",
      "   -------------------- ------------------- 4.8/9.3 MB 3.2 MB/s eta 0:00:02\n",
      "   --------------------- ------------------ 5.0/9.3 MB 3.2 MB/s eta 0:00:02\n",
      "   ---------------------- ----------------- 5.3/9.3 MB 3.3 MB/s eta 0:00:02\n",
      "   ----------------------- ---------------- 5.6/9.3 MB 3.4 MB/s eta 0:00:02\n",
      "   ------------------------ --------------- 5.8/9.3 MB 3.4 MB/s eta 0:00:02\n",
      "   -------------------------- ------------- 6.2/9.3 MB 3.5 MB/s eta 0:00:01\n",
      "   --------------------------- ------------ 6.4/9.3 MB 3.6 MB/s eta 0:00:01\n",
      "   ---------------------------- ----------- 6.6/9.3 MB 3.6 MB/s eta 0:00:01\n",
      "   ----------------------------- ---------- 6.8/9.3 MB 3.6 MB/s eta 0:00:01\n",
      "   ------------------------------ --------- 7.1/9.3 MB 3.7 MB/s eta 0:00:01\n",
      "   ------------------------------- -------- 7.4/9.3 MB 3.7 MB/s eta 0:00:01\n",
      "   --------------------------------- ------ 7.8/9.3 MB 3.8 MB/s eta 0:00:01\n",
      "   ---------------------------------- ----- 8.1/9.3 MB 3.9 MB/s eta 0:00:01\n",
      "   ----------------------------------- ---- 8.4/9.3 MB 3.9 MB/s eta 0:00:01\n",
      "   ------------------------------------ --- 8.4/9.3 MB 3.9 MB/s eta 0:00:01\n",
      "   ------------------------------------- -- 8.7/9.3 MB 3.9 MB/s eta 0:00:01\n",
      "   -------------------------------------- - 9.1/9.3 MB 4.0 MB/s eta 0:00:01\n",
      "   ---------------------------------------  9.3/9.3 MB 4.1 MB/s eta 0:00:01\n",
      "   ---------------------------------------- 9.3/9.3 MB 4.0 MB/s eta 0:00:00\n",
      "Installing collected packages: scikit-learn\n",
      "  Attempting uninstall: scikit-learn\n",
      "    Found existing installation: scikit-learn 1.3.0\n",
      "    Uninstalling scikit-learn-1.3.0:\n",
      "      Successfully uninstalled scikit-learn-1.3.0\n",
      "Successfully installed scikit-learn-1.3.2\n",
      "Note: you may need to restart the kernel to use updated packages.\n"
     ]
    }
   ],
   "source": [
    "pip install -U scikit-learn"
   ]
  },
  {
   "cell_type": "code",
   "execution_count": 2,
   "id": "71572a54",
   "metadata": {},
   "outputs": [
    {
     "name": "stdout",
     "output_type": "stream",
     "text": [
      "2.0.3\n"
     ]
    },
    {
     "data": {
      "text/plain": [
       "pandas.core.arrays.integer.IntegerArray"
      ]
     },
     "execution_count": 2,
     "metadata": {},
     "output_type": "execute_result"
    }
   ],
   "source": [
    "import numpy as np\n",
    "import pandas as pd\n",
    "print(pd.__version__)\n",
    "a1 = np.array([1,2,3])\n",
    "a=pd.array([1,2,3])\n",
    "type(a)\n"
   ]
  },
  {
   "cell_type": "markdown",
   "id": "bb3962ab",
   "metadata": {},
   "source": [
    "# Series"
   ]
  },
  {
   "cell_type": "code",
   "execution_count": 3,
   "id": "8d4d6e38",
   "metadata": {},
   "outputs": [
    {
     "name": "stdout",
     "output_type": "stream",
     "text": [
      "a    2\n",
      "b    3\n",
      "c    4\n",
      "d    5\n",
      "dtype: int64\n",
      "<class 'pandas.core.series.Series'>\n",
      "[2 3 4 5]\n",
      "Index(['a', 'b', 'c', 'd'], dtype='object')\n",
      "Grades:\n",
      "S    9\n",
      "B    6\n",
      "C    3\n",
      "dtype: int64\n",
      "Marks:\n",
      "S    81\n",
      "B    90\n",
      "C    99\n",
      "dtype: int64\n",
      "a    2\n",
      "b    3\n",
      "c    4\n",
      "dtype: int64\n",
      "a    2\n",
      "b    3\n",
      "dtype: int64\n",
      "2    a\n",
      "3    c\n",
      "dtype: object\n"
     ]
    }
   ],
   "source": [
    "a = pd.Series([2,3,4,5],index=['a','b','c','d'])\n",
    "print(a)\n",
    "print(type(a))\n",
    "print(a.values)\n",
    "print(a.index)\n",
    "\n",
    "#   Data can be Dictionary...\n",
    "grades_dict = {\"S\":9,\"B\":6,'C':3}\n",
    "grades = pd.Series(grades_dict)\n",
    "print(f\"Grades:\\n{grades}\")\n",
    "mark_dict={\"S\":81,\"B\":90,\"C\":99}\n",
    "marks= pd.Series(mark_dict)\n",
    "print(f\"Marks:\\n{marks}\")\n",
    "print(a['a':'c'])\n",
    "print(a[0:2])\n",
    "\n",
    "#   Data can be scalar,which is represented to fill the specified index....\n",
    "pd.Series(5,index=[100,200,300])\n",
    "\n",
    "#   Trick....\n",
    "print(pd.Series({2:'a',1:'b',3:'c'},index=[2,3]))"
   ]
  },
  {
   "cell_type": "markdown",
   "id": "4ee6a549",
   "metadata": {},
   "source": [
    "# DataFrame"
   ]
  },
  {
   "cell_type": "code",
   "execution_count": 4,
   "id": "843e2ad1",
   "metadata": {},
   "outputs": [
    {
     "name": "stdout",
     "output_type": "stream",
     "text": [
      "   Marks  Grades\n",
      "S     81       9\n",
      "B     90       6\n",
      "C     99       3\n",
      "<class 'pandas.core.frame.DataFrame'>\n",
      "Transpose:\n",
      "         S   B   C\n",
      "Marks   81  90  99\n",
      "Grades   9   6   3\n",
      "Values:\n",
      " [[81  9]\n",
      " [90  6]\n",
      " [99  3]]\n",
      "99\n",
      "Index(['Marks', 'Grades'], dtype='object')\n",
      "Upgraded d:\n",
      "   Marks  Grades  ScaledMarks\n",
      "S     81       9         81.0\n",
      "B     90       6         90.0\n",
      "C     99       3         99.0\n",
      "   Marks  Grades\n",
      "S     81       9\n",
      "B     90       6\n",
      "C     99       3\n",
      "   a  b    c\n",
      "0  1  2  3.0\n",
      "1  4  5  NaN\n",
      "   a  b    c\n",
      "0  1  2  3.0\n",
      "1  4  5  0.0\n"
     ]
    },
    {
     "data": {
      "text/html": [
       "<div>\n",
       "<style scoped>\n",
       "    .dataframe tbody tr th:only-of-type {\n",
       "        vertical-align: middle;\n",
       "    }\n",
       "\n",
       "    .dataframe tbody tr th {\n",
       "        vertical-align: top;\n",
       "    }\n",
       "\n",
       "    .dataframe thead th {\n",
       "        text-align: right;\n",
       "    }\n",
       "</style>\n",
       "<table border=\"1\" class=\"dataframe\">\n",
       "  <thead>\n",
       "    <tr style=\"text-align: right;\">\n",
       "      <th></th>\n",
       "      <th>a</th>\n",
       "      <th>b</th>\n",
       "      <th>c</th>\n",
       "    </tr>\n",
       "  </thead>\n",
       "  <tbody>\n",
       "    <tr>\n",
       "      <th>0</th>\n",
       "      <td>1</td>\n",
       "      <td>2</td>\n",
       "      <td>3.0</td>\n",
       "    </tr>\n",
       "    <tr>\n",
       "      <th>1</th>\n",
       "      <td>4</td>\n",
       "      <td>5</td>\n",
       "      <td>0.0</td>\n",
       "    </tr>\n",
       "  </tbody>\n",
       "</table>\n",
       "</div>"
      ],
      "text/plain": [
       "   a  b    c\n",
       "0  1  2  3.0\n",
       "1  4  5  0.0"
      ]
     },
     "execution_count": 4,
     "metadata": {},
     "output_type": "execute_result"
    }
   ],
   "source": [
    "\"\"\"You can think of DataFrame as a sequence of aligned Series object.Here by aligned we mean that\n",
    "they share they same Index\n",
    "\"\"\"\n",
    "\n",
    "d = pd.DataFrame({'Marks':marks,\"Grades\":grades})\n",
    "print(d)\n",
    "print(type(d))\n",
    "print(f\"Transpose:\\n{d.T}\")\n",
    "print(\"Values:\\n\",d.values)\n",
    "\n",
    "#   Accessing the values...\n",
    "print(d.values[2,0])\n",
    "\n",
    "#   Accessing the Columns\n",
    "print(d.columns)\n",
    "\n",
    "#   Adding a new column\n",
    "d['ScaledMarks'] = 100*(d[\"Marks\"]/100)\n",
    "print(f\"Upgraded d:\\n{d}\")\n",
    "\n",
    "del d[\"ScaledMarks\"]\n",
    "\n",
    "print(d[d['Marks']>80])\n",
    "\n",
    "#   Passing dictionaries as list in DataFrame\n",
    "\n",
    "a = pd.DataFrame([{'a':1,'b':2,\"c\":3},{'a':4,'b':5}])\n",
    "print(a)\n",
    "a = a.fillna(0)\n",
    "print(a)\n",
    "a.dropna()#....----Deletes the row having a NAN value\n"
   ]
  },
  {
   "cell_type": "markdown",
   "id": "d2568d1c",
   "metadata": {},
   "source": [
    "# Various methods for Constructing DataFrame"
   ]
  },
  {
   "cell_type": "code",
   "execution_count": 5,
   "id": "27b7e609",
   "metadata": {},
   "outputs": [
    {
     "name": "stdout",
     "output_type": "stream",
     "text": [
      "From a single Series:\n",
      "             population\n",
      "California    38332521\n",
      "Texas         26448193\n",
      "New York      19651127\n",
      "Florida       19552860\n",
      "From a list of Data:\n",
      "    a  b\n",
      "0  0  0\n",
      "1  1  2\n",
      "2  2  4\n",
      "From a 2d Numpy Array : \n",
      "        foo       bar\n",
      "a  0.620922  0.693877\n",
      "b  0.335551  0.475911\n",
      "c  0.783179  0.426218\n",
      "From a Numpy Structured Array : \n",
      "   a    b\n",
      "0  0  0.0\n",
      "1  0  0.0\n",
      "2  0  0.0\n"
     ]
    }
   ],
   "source": [
    "area_dict = {\"California\":423967,\"Texas\":695662,\"New York\":141297,\"Florida\":170312}\n",
    "area = pd.Series(area_dict)\n",
    "population_dict={\"California\":38332521,\"Texas\":26448193,\"New York\":19651127,\"Florida\":19552860}\n",
    "population = pd.Series(population_dict)\n",
    "\n",
    "d = pd.DataFrame(population,columns=['population'])\n",
    "print(f\"From a single Series:\\n {d}\")\n",
    "\n",
    "#   From a list of data\n",
    "\n",
    "data = [{'a':i,'b':i*2}\n",
    "        for i in range(3)]\n",
    "data = pd.DataFrame(data)\n",
    "print(f\"From a list of Data:\\n {data}\")\n",
    "\n",
    "#   From a Two-Dimensional Numpy Array\n",
    "\n",
    "d = pd.DataFrame(np.random.rand(3,2),columns = ['foo','bar'],index=['a','b','c'])\n",
    "print(f\"From a 2d Numpy Array : \\n{d}\")\n",
    "\n",
    "#   From a Numpy Structured Array \n",
    "A = np.zeros(3,dtype=[('a','i8'),('b','f8')])\n",
    "print(f\"From a Numpy Structured Array : \\n{pd.DataFrame(A)}\")"
   ]
  },
  {
   "cell_type": "markdown",
   "id": "4ecc5add",
   "metadata": {},
   "source": [
    "# Indexing "
   ]
  },
  {
   "cell_type": "code",
   "execution_count": 6,
   "id": "bcc1afe9",
   "metadata": {},
   "outputs": [
    {
     "name": "stdout",
     "output_type": "stream",
     "text": [
      "Index([2, 3, 5], dtype='int64')\n",
      "Size: 5\n",
      "Shape: (5,)1int64\n",
      "Intersection:Index([0, 0, 4, 0, 8], dtype='int64')\n",
      "Union : Index([3, 7, 7, 15, 11], dtype='int64')\n",
      "Symmetric Difference : Index([3, 7, 3, 15, 3], dtype='int64')\n"
     ]
    }
   ],
   "source": [
    "ind = pd.Index([2,3,5,7,11])\n",
    "type(ind)\n",
    "\n",
    "#   Index as Immutable Array ...Index objects in many ways operates as an Array...\n",
    "print(ind[:3])\n",
    "#   Have attributes similar from Numpy Array\n",
    "print(f\"Size: {ind.size}\\nShape: {ind.shape}{ind.ndim}{ind.dtype}\")\n",
    "#Only difference between Numpy Arrays and Indices is that, they are Immutable\n",
    "#ind[1]=0\n",
    "\n",
    "#   Index as Ordered Set\n",
    "indA = pd.Index([1,3,5,7,9])\n",
    "indB = pd.Index([2,4,6,8,10])\n",
    "\n",
    "print(f\"Intersection:{indA&indB}\")\n",
    "print(f\"Union : {indA|indB}\")\n",
    "print(f\"Symmetric Difference : {indA^indB}\")\n"
   ]
  },
  {
   "cell_type": "markdown",
   "id": "9f44e3ce",
   "metadata": {},
   "source": [
    "# Data Selection in Series"
   ]
  },
  {
   "cell_type": "code",
   "execution_count": 11,
   "id": "fb5cb67a",
   "metadata": {},
   "outputs": [
    {
     "name": "stdout",
     "output_type": "stream",
     "text": [
      "0.5\n",
      "True\n",
      "Index(['a', 'b', 'c', 'd', 'e'], dtype='object')\n",
      "[('a', 0.25), ('b', 0.5), ('c', 0.75), ('d', 1.0), ('e', 3.3)]\n",
      "a    0.25\n",
      "b    0.50\n",
      "c    0.75\n",
      "dtype: float64\n",
      "a    0.25\n",
      "b    0.50\n",
      "dtype: float64\n",
      "a    False\n",
      "b     True\n",
      "c     True\n",
      "d     True\n",
      "e     True\n",
      "dtype: bool\n"
     ]
    }
   ],
   "source": [
    "#~~~Series as Dictionary~~~\n",
    "data = pd.Series([0.25,0.5,0.75,1.0],index=['a','b','c','d'])\n",
    "data['e'] = 3.3\n",
    "print(data['b'])\n",
    "print('a' in data)\n",
    "print(data.keys())\n",
    "print(list(data.items()))\n",
    "\n",
    "\n",
    "#~~~Series as One Dimensional Array~~~\n",
    "\n",
    "#   Slicing...\n",
    "print(data['a':'c'])\n",
    "#   Slicing by Implicit Integer index...\n",
    "print(data[0:2])\n",
    "#   Masking ...\n",
    "print(data[(data>0.3) & (data<3)])\n",
    "#   Fancy Indexing...\n"
   ]
  }
 ],
 "metadata": {
  "kernelspec": {
   "display_name": "Python 3 (ipykernel)",
   "language": "python",
   "name": "python3"
  },
  "language_info": {
   "codemirror_mode": {
    "name": "ipython",
    "version": 3
   },
   "file_extension": ".py",
   "mimetype": "text/x-python",
   "name": "python",
   "nbconvert_exporter": "python",
   "pygments_lexer": "ipython3",
   "version": "3.11.5"
  }
 },
 "nbformat": 4,
 "nbformat_minor": 5
}
